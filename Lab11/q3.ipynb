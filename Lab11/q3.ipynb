{
 "cells": [
  {
   "cell_type": "code",
   "execution_count": 15,
   "metadata": {},
   "outputs": [],
   "source": [
    "from numpy import zeros,array,sqrt,exp,copy,arange,mean,roll,std,flip\n",
    "from numpy import random as nprandom\n",
    "from random import random,randrange\n",
    "from pylab import figure,plot,show,xlim,ylim,title,legend,xlabel,ylabel,savefig,grid"
   ]
  },
  {
   "cell_type": "code",
   "execution_count": 1,
   "metadata": {},
   "outputs": [],
   "source": [
    "# compute energy of tertiary structure of protein\n",
    "def calc_energy(monomer_coords,monomer_array):\n",
    "    energy=0.0\n",
    "\n",
    "    # compute energy due to all adjacencies (including directly bonded monomers)\n",
    "    for i in range(N):\n",
    "        for neighbour in [[-1,0],[1,0],[0,-1],[0,1]]: # the four neighbour directions\n",
    "            neighbour_monomer=monomer_array[monomer_coords[i,0]+neighbour[0],monomer_coords[i,1]+neighbour[1]]\n",
    "            \n",
    "            if neighbour_monomer==1: # check neighbour is not empty\n",
    "                energy+=eps\n",
    "       \n",
    "    # divide by 2 to correct for double-counting\n",
    "    energy=energy/2.0\n",
    "    \n",
    "    # correct energy to not count directly bonded monomer neighbours\n",
    "    energy-=(N-1)*eps\n",
    "        \n",
    "    return energy\n",
    "\n",
    "def dist(position1,position2):\n",
    "    return sqrt((position1[0]-position2[0])**2+(position1[1]-position2[1])**2)\n",
    "\n",
    "eps=-5.0 # interaction energy\n",
    "N=30 # length of protein\n",
    "T=0.5 # temperature for Monte Carlo\n",
    "n=10000000 # number of Monte Carlo steps\n",
    "\n",
    "# T_f=0.5\n",
    "# T_steps=4\n",
    "# T_i=T_f+T_steps-1\n",
    "# T_array= zeros(n)\n",
    "# for step in range(T_steps):\n",
    "#     T_array[int(step*n/T_steps):int((step+1)*n/T_steps)]=(T_i-T_f)*(1-float(step)/(T_steps-1))+T_f\n",
    "\n",
    "T_f=0.5\n",
    "T_steps=20\n",
    "T_i=10\n",
    "T_array= zeros(n)\n",
    "for step in range(T_steps):\n",
    "    T_array[int(step*n/T_steps):int((step+1)*n/T_steps)]=(T_i-T_f)*(1-float(step)/(T_steps-1))+T_f\n",
    "\n",
    "energy_array=zeros(n) # initialize array to hold energy\n",
    "\n",
    "# initialize arrays to store protein information\n",
    "\n",
    "# first column is x coordinates, second column is y coordinates, of all N monomers\n",
    "monomer_coords=zeros((N,2),dtype='int')\n",
    "\n",
    "# initialize position of polymer as straight horizontal line in middle of domain\n",
    "monomer_coords[:,0]=range(N//2,3*N//2)\n",
    "monomer_coords[:,1]=N\n",
    "\n",
    "# 2D array representing lattice, equal to 0 when a lattice point is empty, and equal to 1 when there is a monomer at the lattice point\n",
    "monomer_array=zeros((2*N+1,2*N+1),dtype='int')\n",
    "\n",
    "# fill lattice array\n",
    "for i in range(N):\n",
    "    monomer_array[monomer_coords[i,0],monomer_coords[i,1]]=1\n",
    "\n",
    "# calculate energy of initial protein structure\n",
    "energy=calc_energy(monomer_coords,monomer_array)\n",
    "\n",
    "# do Monte Carlo procedure to find optimal protein structure\n",
    "for j in range(n):        \n",
    "    energy_array[j]=energy\n",
    "    \n",
    "    # move protein back to centre of array\n",
    "    shift_x=int(mean(monomer_coords[:,0])-N)\n",
    "    shift_y=int(mean(monomer_coords[:,1])-N)\n",
    "    monomer_coords[:,0]-=shift_x\n",
    "    monomer_coords[:,1]-=shift_y\n",
    "    monomer_array=roll(monomer_array,-shift_x,axis=0)\n",
    "    monomer_array=roll(monomer_array,-shift_y,axis=1)\n",
    "    \n",
    "    # pick random monomer\n",
    "    i=randrange(N)\n",
    "    cur_monomer_pos=monomer_coords[i,:]\n",
    "    \n",
    "    # pick random diagonal neighbour for monomer\n",
    "    direction=randrange(4)\n",
    "    \n",
    "    if direction==0:\n",
    "        neighbour=array([-1,-1]) # left/down\n",
    "    elif direction==1:\n",
    "        neighbour=array([-1,1]) # left/up\n",
    "    elif direction==2:\n",
    "        neighbour=array([1,1]) # right/up\n",
    "    elif direction==3:\n",
    "        neighbour=array([1,-1]) # right/down\n",
    "    \n",
    "    new_monomer_pos=cur_monomer_pos+neighbour\n",
    "    \n",
    "    # check if neighbour lattice point is empty\n",
    "    if monomer_array[new_monomer_pos[0],new_monomer_pos[1]]==0:\n",
    "        # check if it is possible to move monomer to new position without stretching chain\n",
    "        distance_okay=False\n",
    "        if i==0:\n",
    "            if dist(new_monomer_pos,monomer_coords[i+1,:])<1.1:\n",
    "                distance_okay=True\n",
    "        elif i==N-1:\n",
    "            if dist(new_monomer_pos,monomer_coords[i-1,:])<1.1:\n",
    "                distance_okay=True\n",
    "        else:\n",
    "            if dist(new_monomer_pos,monomer_coords[i-1,:])<1.1 and dist(new_monomer_pos,monomer_coords[i+1,:])<1.1:\n",
    "                distance_okay=True\n",
    "                \n",
    "        if distance_okay:\n",
    "            # calculate new energy\n",
    "            new_monomer_coords=copy(monomer_coords)\n",
    "            new_monomer_coords[i,:]=new_monomer_pos\n",
    "            \n",
    "            new_monomer_array=copy(monomer_array)\n",
    "            new_monomer_array[cur_monomer_pos[0],cur_monomer_pos[1]]=0\n",
    "            new_monomer_array[new_monomer_pos[0],new_monomer_pos[1]]=1\n",
    "            \n",
    "            new_energy=calc_energy(new_monomer_coords,new_monomer_array)\n",
    "            \n",
    "            if random()<exp(-(new_energy-energy)/T_array[j]):\n",
    "                # make switch\n",
    "                energy=new_energy\n",
    "                monomer_coords=copy(new_monomer_coords)\n",
    "                monomer_array=copy(new_monomer_array)"
   ]
  },
  {
   "cell_type": "code",
   "execution_count": 24,
   "metadata": {},
   "outputs": [
    {
     "name": "stdout",
     "output_type": "stream",
     "text": [
      "Energy averaged over last half of simulations is: -81.34\n",
      "Energy averaged over last quarter of simulations is: -89.37\n"
     ]
    },
    {
     "data": {
      "image/png": "[encoded data removed]",
      "text/plain": [
       "<Figure size 432x288 with 1 Axes>"
      ]
     },
     "metadata": {
      "needs_background": "light"
     },
     "output_type": "display_data"
    },
    {
     "data": {
      "image/png": "[encoded data removed]",
      "text/plain": [
       "<Figure size 432x288 with 1 Axes>"
      ]
     },
     "metadata": {
      "needs_background": "light"
     },
     "output_type": "display_data"
    },
    {
     "data": {
      "image/png": "[encoded data removed]",
      "text/plain": [
       "<Figure size 432x288 with 1 Axes>"
      ]
     },
     "metadata": {
      "needs_background": "light"
     },
     "output_type": "display_data"
    }
   ],
   "source": [
    "figure()\n",
    "title(\"Final Temperature={}\".format(T_array[-1]))\n",
    "plot(T_array)\n",
    "xlabel('Monte Carlo step')\n",
    "ylabel('Temperature')\n",
    "grid()\n",
    "savefig('Temperature.png')\n",
    "\n",
    "T = T_array[-1]\n",
    "figure()\n",
    "title('Temperature=%.1f, Protein length=%d'%(T,N))\n",
    "plot(energy_array)\n",
    "xlabel('Monte Carlo step')\n",
    "ylabel('Energy')\n",
    "savefig('energy_vs_step_T%d_N%d_n%d.png'%(10*T,N,n))\n",
    "\n",
    "figure()\n",
    "plot(monomer_coords[:,0],monomer_coords[:,1],'-k') # plot bonds\n",
    "title('Temperature=%.1f, Energy = %.1f'%(T,energy))\n",
    "# plot monomers\n",
    "for i in range(N):\n",
    "    plot(monomer_coords[i,0],monomer_coords[i,1],'.r',markersize=15)  \n",
    "xlim([N/3.0,5.0*N/3.0])\n",
    "ylim([N/3.0,5.0*N/3.0])\n",
    "savefig('final_protein_T%d_N%d_n%d.png'%(10*T,N,n))\n",
    "\n",
    "print ('Energy averaged over last half of simulations is: %.2f'%mean(energy_array[int(n/2):]))\n",
    "print ('Energy averaged over last quarter of simulations is: %.2f'%mean(energy_array[-int(n/4):]))\n",
    "\n",
    "show()"
   ]
  },
  {
   "cell_type": "code",
   "execution_count": 9,
   "metadata": {},
   "outputs": [],
   "source": [
    "mean_results = []\n",
    "for t in range(19):\n",
    "    mean_results.append(mean(energy_array[t*int(n/T_steps):(t+1)*int(n/T_steps)]))\n",
    "mean_results.append(mean(energy_array[-1*int(n/T_steps):]))"
   ]
  },
  {
   "cell_type": "code",
   "execution_count": 10,
   "metadata": {},
   "outputs": [],
   "source": [
    "std_results = []\n",
    "for t in range(19):\n",
    "    std_results.append(std(energy_array[t*int(n/T_steps):(t+1)*int(n/T_steps)]))\n",
    "std_results.append(std(energy_array[-1*int(n/T_steps):]))"
   ]
  },
  {
   "cell_type": "code",
   "execution_count": 18,
   "metadata": {},
   "outputs": [],
   "source": [
    "temperature_results = flip(arange(0.5,10.5,0.5))"
   ]
  },
  {
   "cell_type": "code",
   "execution_count": 25,
   "metadata": {},
   "outputs": [
    {
     "data": {
      "image/png": "[encoded data removed]",
      "text/plain": [
       "<Figure size 432x288 with 1 Axes>"
      ]
     },
     "metadata": {
      "needs_background": "light"
     },
     "output_type": "display_data"
    }
   ],
   "source": [
    "figure()\n",
    "title(\"Temperature vs Energy\")\n",
    "plot(mean_results, temperature_results)\n",
    "xlabel('Mean Energy')\n",
    "ylabel('Temperature')\n",
    "grid()\n",
    "savefig('tempvsenergy.png')"
   ]
  },
  {
   "cell_type": "code",
   "execution_count": 22,
   "metadata": {},
   "outputs": [
    {
     "data": {
      "text/plain": [
       "[-38.98408,\n",
       " -35.24236,\n",
       " -52.12534,\n",
       " -60.14649,\n",
       " -58.80047,\n",
       " -50.99013,\n",
       " -61.60642,\n",
       " -68.79764,\n",
       " -55.59727,\n",
       " -62.61837,\n",
       " -68.20258,\n",
       " -65.9682,\n",
       " -70.89769,\n",
       " -76.93278,\n",
       " -84.51499,\n",
       " -88.11484,\n",
       " -88.29111,\n",
       " -90.46209,\n",
       " -89.9895,\n",
       " -90.0]"
      ]
     },
     "execution_count": 22,
     "metadata": {},
     "output_type": "execute_result"
    }
   ],
   "source": [
    "mean_results"
   ]
  },
  {
   "cell_type": "code",
   "execution_count": null,
   "metadata": {},
   "outputs": [],
   "source": []
  }
 ],
 "metadata": {
  "kernelspec": {
   "display_name": "Python 3",
   "language": "python",
   "name": "python3"
  },
  "language_info": {
   "codemirror_mode": {
    "name": "ipython",
    "version": 3
   },
   "file_extension": ".py",
   "mimetype": "text/x-python",
   "name": "python",
   "nbconvert_exporter": "python",
   "pygments_lexer": "ipython3",
   "version": "3.7.3"
  }
 },
 "nbformat": 4,
 "nbformat_minor": 2
}
